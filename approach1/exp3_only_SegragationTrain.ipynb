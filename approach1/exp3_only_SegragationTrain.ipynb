{
 "cells": [
  {
   "cell_type": "code",
   "execution_count": 1,
   "metadata": {},
   "outputs": [],
   "source": [
    "from flask import Flask, request, redirect, url_for,send_from_directory, render_template_string\n",
    "from werkzeug.utils import secure_filename\n",
    "import caffe\n",
    "import json\n",
    "import numpy as np\n",
    "import os\n",
    "from sklearn import svm,metrics\n",
    "from sklearn.metrics import roc_curve, auc\n",
    "import matplotlib.pyplot as plt\n",
    "import matplotlib.image as mpimg\n",
    "import struct\n",
    "import pandas as pd\n",
    "from __future__ import division\n",
    "import collections"
   ]
  },
  {
   "cell_type": "code",
   "execution_count": 2,
   "metadata": {},
   "outputs": [],
   "source": [
    "deployPrototxt = \"/opt/swm-ml-docker/swm-ml-master/bvlc_reference_caffenet/deploy.prototxt\"\n",
    "caffeModel = \"/opt/swm-ml-docker/swm-ml-master/bvlc_reference_caffenet/bvlc_reference_caffenet.caffemodel\"\n",
    "featureVectorDirectory = \"/opt/swm-ml-docker/data/train\"\n",
    "metadataDirectory = '/opt/swm-ml-docker/metadata_bak/'\n",
    "imageMeanFile = '/opt/swm-ml-docker/ilsvrc_2012_mean.npy'\n",
    "layerName = 'fc7'"
   ]
  },
  {
   "cell_type": "code",
   "execution_count": 3,
   "metadata": {},
   "outputs": [
    {
     "name": "stdout",
     "output_type": "stream",
     "text": [
      "Loading model ...\n",
      "Done loading\n"
     ]
    }
   ],
   "source": [
    "print(\"Loading model ...\")\n",
    "cnn = caffe.Net(deployPrototxt, caffe.TEST, weights=caffeModel)\n",
    "print(\"Done loading\")"
   ]
  },
  {
   "cell_type": "code",
   "execution_count": 4,
   "metadata": {},
   "outputs": [],
   "source": [
    "# reshape to accept one image at a time.\n",
    "(_, c, w, h) = cnn.blobs['data'].data.shape\n",
    "cnn.blobs['data'].reshape(1, c, w, h)\n",
    "transformer = caffe.io.Transformer({'data': cnn.blobs['data'].data.shape})\n",
    "transformer.set_mean('data', np.load(imageMeanFile).mean(1).mean(1))\n",
    "transformer.set_transpose('data', (2,0,1))\n",
    "transformer.set_raw_scale('data', 255.0)"
   ]
  },
  {
   "cell_type": "code",
   "execution_count": 21,
   "metadata": {},
   "outputs": [],
   "source": [
    "def loadMetaData(metadataDir):\n",
    "    metadataByImageHash = {}\n",
    "    allFiles = os.listdir(metadataDir)\n",
    "    for fileName in allFiles:\n",
    "        with open(\"%s/%s\" % (metadataDir, fileName), \"r\") as jsonFile:\n",
    "            metadata = json.load(jsonFile)\n",
    "            metadataByImageHash[metadata['Image Hash']] = metadata\n",
    "    return metadataByImageHash\n",
    "\n",
    "classIdByLabel = {\"Dry\" : 0, \"Wet\" : 1, \"Reject\" : 2, \"Garden\" : 3}\n",
    "\n",
    "def makePrimaryLabels(metadataByImageHash, allImageHashes):\n",
    "    labels = []\n",
    "    for imageHash in allImageHashes:\n",
    "        metadata = metadataByImageHash[imageHash]\n",
    "        labels.append(classIdByLabel[metadata['Primary']])\n",
    "    return labels\n",
    "\n",
    "def makeBinaryLabels(metadataByImageHash, allImageHashes):\n",
    "    labels = []\n",
    "    for imageHash in allImageHashes:\n",
    "        metadata = metadataByImageHash[imageHash]\n",
    "        labels.append(1 if (metadata['Secondary'] == \"NA\") else 0)\n",
    "    return labels\n",
    "\n",
    "def makeBinaryLabelsDict(metadataByImageHash, allImageHashes):\n",
    "    hashToLabels={}\n",
    "    for imageHash in allImageHashes:\n",
    "        metadata = metadataByImageHash[imageHash]\n",
    "        hashToLabels[imageHash]=(1 if (metadata['Secondary'] == \"NA\") else 0)\n",
    "    return hashToLabels\n",
    "    "
   ]
  },
  {
   "cell_type": "code",
   "execution_count": 26,
   "metadata": {},
   "outputs": [
    {
     "name": "stdout",
     "output_type": "stream",
     "text": [
      "1311\n"
     ]
    }
   ],
   "source": [
    "metadataByImageHash = loadMetaData(metadataDirectory)\n",
    "allImageHashes = os.listdir(featureVectorDirectory)\n",
    "primarylabels = makePrimaryLabels(metadataByImageHash, allImageHashes)\n",
    "binarylabels= makeBinaryLabels(metadataByImageHash, allImageHashes)\n",
    "hashtoBinaryLabelsDict=makeBinaryLabelsDict(metadataByImageHash, allImageHashes)\n",
    "counter=collections.Counter(binarylabels)\n",
    "print counter[1]"
   ]
  },
  {
   "cell_type": "code",
   "execution_count": 45,
   "metadata": {},
   "outputs": [],
   "source": [
    "def loadFeatureVectors(dirPath,numImages,hashtoBinaryLabelsDict,label,d):\n",
    "    allFiles = os.listdir(dirPath)\n",
    "    imageHash=[]\n",
    "    data = np.zeros([numImages, d])\n",
    "    itr=0\n",
    "    for i, fileName in enumerate(allFiles):\n",
    "        with open(\"%s/%s\" % (dirPath, fileName), \"rb\") as inputFile:\n",
    "            if hashtoBinaryLabelsDict[fileName]==label:\n",
    "                data[itr] = struct.unpack('f'*d, inputFile.read())\n",
    "                itr+=1\n",
    "                imageHash.append(fileName)\n",
    "    return (data,imageHash)"
   ]
  },
  {
   "cell_type": "code",
   "execution_count": 46,
   "metadata": {},
   "outputs": [],
   "source": [
    "data,segImageHash=loadFeatureVectors(featureVectorDirectory,counter[1],hashtoBinaryLabelsDict,1, d = 4096)\n",
    "dataTest,nonsegImageHash=loadFeatureVectors(featureVectorDirectory,counter[0],hashtoBinaryLabelsDict,0, d = 4096)"
   ]
  },
  {
   "cell_type": "code",
   "execution_count": 40,
   "metadata": {},
   "outputs": [
    {
     "name": "stdout",
     "output_type": "stream",
     "text": [
      "(1311, 871)\n"
     ]
    }
   ],
   "source": [
    "print (len(data),len(dataTest))"
   ]
  },
  {
   "cell_type": "code",
   "execution_count": 52,
   "metadata": {},
   "outputs": [
    {
     "name": "stdout",
     "output_type": "stream",
     "text": [
      "Training SVM\n",
      "Finished training ready to classify images\n"
     ]
    }
   ],
   "source": [
    "segPrimarylabels = makePrimaryLabels(metadataByImageHash, segImageHash)\n",
    "nonsegPrimarylabels= makePrimaryLabels(metadataByImageHash,nonsegImageHash)\n",
    "print(\"Training SVM\")\n",
    "clf = svm.SVC(probability=True)\n",
    "clf.fit(data, segPrimarylabels)\n",
    "print(\"Finished training ready to classify images\")"
   ]
  },
  {
   "cell_type": "code",
   "execution_count": 56,
   "metadata": {},
   "outputs": [],
   "source": [
    "prediction_proba=clf.predict_proba(dataTest)\n",
    "prediction=clf.predict(dataTest)"
   ]
  },
  {
   "cell_type": "code",
   "execution_count": 57,
   "metadata": {},
   "outputs": [
    {
     "name": "stdout",
     "output_type": "stream",
     "text": [
      "[[  9.13540340e-02   7.96279483e-01   2.35758592e-03   1.10008897e-01]\n",
      " [  9.96589361e-01   3.03689180e-03   1.02296425e-04   2.71451091e-04]\n",
      " [  1.66853327e-01   8.12708618e-01   2.05739511e-03   1.83806605e-02]\n",
      " ..., \n",
      " [  9.64199302e-01   3.32366318e-02   4.69609344e-04   2.09445708e-03]\n",
      " [  9.29596661e-01   6.27871802e-02   5.29165640e-04   7.08699330e-03]\n",
      " [  4.42515308e-01   5.40390401e-01   5.63806799e-03   1.14562229e-02]]\n"
     ]
    }
   ],
   "source": [
    "print prediction_proba"
   ]
  },
  {
   "cell_type": "code",
   "execution_count": 59,
   "metadata": {},
   "outputs": [
    {
     "name": "stdout",
     "output_type": "stream",
     "text": [
      "[[405 117   0   0]\n",
      " [ 97 209   0   0]\n",
      " [  9   2   0   0]\n",
      " [  2  30   0   0]]\n"
     ]
    }
   ],
   "source": [
    "CM = metrics.confusion_matrix(nonsegPrimarylabels,prediction)\n",
    "print CM"
   ]
  },
  {
   "cell_type": "code",
   "execution_count": 78,
   "metadata": {},
   "outputs": [],
   "source": [
    "maxProba=[]\n",
    "for i,p in enumerate(prediction_proba):\n",
    "    maxProba.append(p[nonsegPrimarylabels[i]])\n",
    "    "
   ]
  },
  {
   "cell_type": "code",
   "execution_count": 86,
   "metadata": {},
   "outputs": [
    {
     "data": {
      "image/png": "[encoded data removed]",
      "text/plain": [
       "<matplotlib.figure.Figure at 0x7f4af4a060d0>"
      ]
     },
     "metadata": {},
     "output_type": "display_data"
    }
   ],
   "source": [
    "fig = plt.figure()\n",
    "idx=list(range(871))\n",
    "plt.axis([0, 900, -0.5, 1.5])\n",
    "plt.plot(idx,maxProba)\n",
    "plt.show()\n"
   ]
  },
  {
   "cell_type": "code",
   "execution_count": 91,
   "metadata": {},
   "outputs": [
    {
     "name": "stdout",
     "output_type": "stream",
     "text": [
      "0.670561165277 0.117747671309\n"
     ]
    }
   ],
   "source": [
    "print np.mean(maxProba),np.var(maxProba)"
   ]
  },
  {
   "cell_type": "code",
   "execution_count": 90,
   "metadata": {},
   "outputs": [
    {
     "name": "stdout",
     "output_type": "stream",
     "text": [
      "0.46383467279\n"
     ]
    }
   ],
   "source": [
    "cutoff=0.8\n",
    "count=0\n",
    "for i in maxProba:\n",
    "    if i<cutoff:\n",
    "        count+=1\n",
    "print count/len(maxProba)\n",
    "    "
   ]
  },
  {
   "cell_type": "code",
   "execution_count": 92,
   "metadata": {},
   "outputs": [
    {
     "data": {
      "image/png": "[encoded data removed]",
      "text/plain": [
       "<matplotlib.figure.Figure at 0x7f4af475d7d0>"
      ]
     },
     "metadata": {},
     "output_type": "display_data"
    }
   ],
   "source": [
    "plt.hist(maxProba,20)\n",
    "plt.show()"
   ]
  },
  {
   "cell_type": "code",
   "execution_count": null,
   "metadata": {},
   "outputs": [],
   "source": []
  }
 ],
 "metadata": {
  "kernelspec": {
   "display_name": "Python 2",
   "language": "python",
   "name": "python2"
  },
  "language_info": {
   "codemirror_mode": {
    "name": "ipython",
    "version": 2
   },
   "file_extension": ".py",
   "mimetype": "text/x-python",
   "name": "python",
   "nbconvert_exporter": "python",
   "pygments_lexer": "ipython2",
   "version": "2.7.12"
  }
 },
 "nbformat": 4,
 "nbformat_minor": 2
}
