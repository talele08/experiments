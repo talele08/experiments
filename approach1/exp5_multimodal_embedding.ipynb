{
 "cells": [
  {
   "cell_type": "code",
   "execution_count": 1,
   "metadata": {},
   "outputs": [],
   "source": [
    "                                                                                                                                                                                                                                                                                                           from flask import Flask, request, redirect, url_for,send_from_directory, render_template_string\n",
    "from werkzeug.utils import secure_filename\n",
    "import caffe\n",
    "import json\n",
    "import numpy as np\n",
    "import os\n",
    "from sklearn import svm,metrics\n",
    "from sklearn.metrics import roc_curve, auc\n",
    "import matplotlib.pyplot as plt\n",
    "import matplotlib.image as mpimg\n",
    "import struct\n",
    "import pandas as pd\n",
    "import csv\n",
    "import collections"
   ]
  },
  {
   "cell_type": "code",
   "execution_count": 2,
   "metadata": {},
   "outputs": [],
   "source": [
    "deployPrototxt = \"/opt/swm-ml-docker/swm-ml-master/bvlc_reference_caffenet/deploy.prototxt\"\n",
    "caffeModel = \"/opt/swm-ml-docker/swm-ml-master/bvlc_reference_caffenet/bvlc_reference_caffenet.caffemodel\"\n",
    "featureVectorDirectory = \"/opt/swm-ml-docker/data/train\"\n",
    "metadataDirectory = '/opt/swm-ml-docker/metadata_bak/'\n",
    "imageMeanFile = '/opt/swm-ml-docker/ilsvrc_2012_mean.npy'\n",
    "layerName = 'fc7'"
   ]
  },
  {
   "cell_type": "code",
   "execution_count": 3,
   "metadata": {},
   "outputs": [
    {
     "name": "stdout",
     "output_type": "stream",
     "text": [
      "Loading model ...\n",
      "Done loading\n"
     ]
    }
   ],
   "source": [
    "print(\"Loading model ...\")\n",
    "cnn = caffe.Net(deployPrototxt, caffe.TEST, weights=caffeModel)\n",
    "print(\"Done loading\")"
   ]
  },
  {
   "cell_type": "code",
   "execution_count": 4,
   "metadata": {},
   "outputs": [],
   "source": [
    "# reshape to accept one image at a time.\n",
    "(_, c, w, h) = cnn.blobs['data'].data.shape\n",
    "cnn.blobs['data'].reshape(1, c, w, h)\n",
    "transformer = caffe.io.Transformer({'data': cnn.blobs['data'].data.shape})\n",
    "transformer.set_mean('data', np.load(imageMeanFile).mean(1).mean(1))\n",
    "transformer.set_transpose('data', (2,0,1))\n",
    "transformer.set_raw_scale('data', 255.0)"
   ]
  },
  {
   "cell_type": "code",
   "execution_count": 5,
   "metadata": {},
   "outputs": [],
   "source": [
    "with open('Consolidated.csv','r') as csvfile:\n",
    "    readCSV=csv.reader(csvfile,delimiter=',')\n",
    "    Primary=[]\n",
    "    Secondary=[]\n",
    "    Tertiary=[]\n",
    "    Lining=[]\n",
    "    Names=[]\n",
    "    for row in readCSV:\n",
    "        #print row[0],row[1],row[2],row[3],row[7]\n",
    "        Primary.append(row[1])\n",
    "        Secondary.append(row[2])\n",
    "        Tertiary.append(row[3])\n",
    "        Lining.append(row[7])\n",
    "        Names.append(row[8])\n",
    "        "
   ]
  },
  {
   "cell_type": "code",
   "execution_count": 29,
   "metadata": {},
   "outputs": [
    {
     "name": "stdout",
     "output_type": "stream",
     "text": [
      "Counter({'Plastic': 1531, 'None': 886, 'Newspaper': 279, 'Brown Paper': 15, 'Cloth Bag': 9})\n"
     ]
    }
   ],
   "source": [
    "counter=collections.Counter(Lining)\n",
    "print counter\n",
    "del Primary[0]\n",
    "del Secondary[0]\n",
    "del Tertiary[0]\n",
    "del Lining[0]\n",
    "del Names[0]\n",
    "for i in Names:\n",
    "    i.encode('ascii','ignore')"
   ]
  },
  {
   "cell_type": "code",
   "execution_count": 53,
   "metadata": {},
   "outputs": [],
   "source": [
    "classIdByLabel = {\"Dry\" : 0, \"Wet\" : 1, \"Reject\" : 2, \"Garden\" : 3,\"NA\":4}\n",
    "classIdByLabelLining={'Plastic': 0, 'None': 1, 'Newspaper': 2, 'Brown Paper': 3, 'Cloth Bag': 4}\n",
    "\n",
    "def loadMetaData(metadataDir):\n",
    "    metadataByImageHash = {}\n",
    "    allFiles = os.listdir(metadataDir)\n",
    "    for fileName in allFiles:\n",
    "        with open(\"%s/%s\" % (metadataDir, fileName), \"r\") as jsonFile:\n",
    "            metadata = json.load(jsonFile)\n",
    "            metadataByImageHash[metadata['Image Hash']] = metadata\n",
    "    return metadataByImageHash\n",
    "\n",
    "def loadFeatureVectors(dirPath,metadataByImageHash, d):\n",
    "    allFiles = os.listdir(dirPath)\n",
    "    data = np.zeros([len(allFiles), d])\n",
    "    textdata = np.zeros([len(allFiles), 4])\n",
    "    for i, fileName in enumerate(allFiles):\n",
    "        #print (i,fileName)\n",
    "        with open(\"%s/%s\" % (dirPath, fileName), \"rb\") as inputFile:\n",
    "            data[i] = struct.unpack('f'*d, inputFile.read())\n",
    "            metadata = metadataByImageHash[fileName]\n",
    "            l=[]\n",
    "            val1=classIdByLabel[metadata['Primary']]\n",
    "            val2=classIdByLabel[metadata['Secondary']]\n",
    "            val3=classIdByLabel[metadata['Tertiary']]\n",
    "            val4=classIdByLabelLining[metadata['Lining']]\n",
    "            l.extend([val1,val2,val3,val4])\n",
    "            textdata[i]=l\n",
    "    return (data,textdata,allFiles)\n",
    "\n",
    "def makeBinaryLabels(metadataByImageHash, allImageHashes):\n",
    "    labels = []\n",
    "    for imageHash in allImageHashes:\n",
    "        metadata = metadataByImageHash[imageHash]\n",
    "        labels.append(1 if (metadata['Secondary'] == \"NA\") else 0)\n",
    "    return labels"
   ]
  },
  {
   "cell_type": "code",
   "execution_count": 44,
   "metadata": {},
   "outputs": [],
   "source": [
    "metadataByImageHash = loadMetaData(metadataDirectory)\n",
    "data,textdata,allImageHashes=loadFeatureVectors(featureVectorDirectory,metadataByImageHash,d = 4096)"
   ]
  },
  {
   "cell_type": "code",
   "execution_count": 58,
   "metadata": {},
   "outputs": [],
   "source": [
    "embeddedData=np.concatenate((data,textdata),axis=1)"
   ]
  },
  {
   "cell_type": "code",
   "execution_count": 54,
   "metadata": {},
   "outputs": [
    {
     "name": "stdout",
     "output_type": "stream",
     "text": [
      "Training SVM\n",
      "('Finished training ready to classify images', ' Data size: ', 2182)\n"
     ]
    }
   ],
   "source": [
    "print(\"Training SVM\")\n",
    "labels = makeBinaryLabels(metadataByImageHash, allImageHashes)\n",
    "clf = svm.SVC(probability=True)\n",
    "clf.fit(embeddedData, labels)\n",
    "print(\"Finished training ready to classify images\",\" Data size: \",len(data))"
   ]
  },
  {
   "cell_type": "code",
   "execution_count": 59,
   "metadata": {},
   "outputs": [],
   "source": [
    "featureVectorTestDirectory = \"/opt/swm-ml-docker/data/test\"\n",
    "dataTest,textdataTest,allImageHashesTest = loadFeatureVectors(featureVectorTestDirectory,metadataByImageHash, d = 4096)\n",
    "embeddedDataTest=np.concatenate((dataTest,textdataTest),axis=1)\n",
    "labelsTest = makeBinaryLabels(metadataByImageHash, allImageHashesTest)"
   ]
  },
  {
   "cell_type": "code",
   "execution_count": 60,
   "metadata": {},
   "outputs": [
    {
     "data": {
      "text/plain": [
       "0.91769547325102885"
      ]
     },
     "execution_count": 60,
     "metadata": {},
     "output_type": "execute_result"
    }
   ],
   "source": [
    "clf.score(embeddedDataTest,labelsTest)"
   ]
  },
  {
   "cell_type": "code",
   "execution_count": 62,
   "metadata": {},
   "outputs": [],
   "source": [
    "prediction=clf.predict(embeddedDataTest)"
   ]
  },
  {
   "cell_type": "code",
   "execution_count": 63,
   "metadata": {},
   "outputs": [],
   "source": [
    "CM = metrics.confusion_matrix(labelsTest,prediction)"
   ]
  },
  {
   "cell_type": "code",
   "execution_count": 64,
   "metadata": {},
   "outputs": [
    {
     "name": "stdout",
     "output_type": "stream",
     "text": [
      "[[ 91  15]\n",
      " [  5 132]]\n"
     ]
    }
   ],
   "source": [
    "print CM"
   ]
  },
  {
   "cell_type": "code",
   "execution_count": null,
   "metadata": {},
   "outputs": [],
   "source": []
  }
 ],
 "metadata": {
  "kernelspec": {
   "display_name": "Python 2",
   "language": "python",
   "name": "python2"
  },
  "language_info": {
   "codemirror_mode": {
    "name": "ipython",
    "version": 2
   },
   "file_extension": ".py",
   "mimetype": "text/x-python",
   "name": "python",
   "nbconvert_exporter": "python",
   "pygments_lexer": "ipython2",
   "version": "2.7.12"
  }
 },
 "nbformat": 4,
 "nbformat_minor": 2
}
